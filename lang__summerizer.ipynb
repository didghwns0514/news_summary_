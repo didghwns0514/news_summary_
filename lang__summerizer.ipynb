{
 "cells": [
  {
   "cell_type": "markdown",
   "metadata": {},
   "source": [
    "## Define a class using gensim\n"
   ]
  },
  {
   "cell_type": "code",
   "execution_count": 3,
   "metadata": {},
   "outputs": [
    {
     "name": "stdout",
     "output_type": "stream",
     "text": [
      "done! : 2020-12-22 15:11:15.049474\n"
     ]
    }
   ],
   "source": [
    "import gensim\n",
    "import os\n",
    "import nltk\n",
    "import datetime\n",
    "import numpy as np\n",
    "import pandas as pd\n",
    "import urllib.request\n",
    "from sklearn.metrics.pairwise import cosine_similarity\n",
    "from sklearn.cluster import DBSCAN\n",
    "from scipy.spatial import distance\n",
    "from wordcloud import WordCloud\n",
    "from pprint import pprint\n",
    "import networkx as nx\n",
    "import sys\n",
    "import matplotlib as mp\n",
    "import time\n",
    "import math\n",
    "import seaborn as sns\n",
    "from scipy.stats import norm\n",
    "sys.setrecursionlimit(10000)\n",
    "\n",
    "\n",
    "\n",
    "\"\"\"\"\n",
    "\n",
    "# 텍스트 추상요약\n",
    "https://wikidocs.net/72820 -> 텍스트의 추상요약\n",
    "https://lovit.github.io/nlp/2019/04/30/textrank/ -> 텍스트 요약\n",
    "\n",
    "\"\"\"\n",
    "\n",
    "\n",
    "from nltk.stem.porter import PorterStemmer\n",
    "from nltk.tokenize import sent_tokenize\n",
    "from nltk.tokenize import word_tokenize\n",
    "from nltk.corpus import stopwords\n",
    "from nltk.tag import pos_tag\n",
    "\n",
    "\n",
    "\n",
    "class Lang_ml:\n",
    "    SENTENCE_LENGTH = int(300)\n",
    "    VECTOR_DIMENSION = int(300)\n",
    "    SENTENCE_NUM = int(5)\n",
    "    \n",
    "    def __init__(self):\n",
    "        \n",
    "        tmp_bool, tmp_file_path = self.check__model_bin_file()\n",
    "        if tmp_bool:\n",
    "            self.wv_model = gensim.models.KeyedVectors.load_word2vec_format(tmp_file_path, binary=True)\n",
    "            print(f'self.wv_model successful loading!')\n",
    "        else:\n",
    "            raise ValueError('no binary modeling exsits in the dir, exit')\n",
    "        \n",
    "        self.filter_stop_word = set(stopwords.words('english'))\n",
    "        self.filter_stem = PorterStemmer()\n",
    "        self.filter_user_word = []\n",
    "        self.filter_user_skip_tag = ['IN', 'TO']\n",
    "        self.filter_user_ok_tag = ['NNP'] # VB excluded\n",
    "        self.do_print = False\n",
    "        self.result_print = True\n",
    "        \n",
    "        \n",
    "        # variables for sentence\n",
    "        self.SENTENCE_all = []\n",
    "        self.SENTENCE_reduced = []\n",
    "    \n",
    "    def check__model_bin_file(self):\n",
    "        tmp_cur_path = os.getcwd().replace('/','\\\\')\n",
    "        tmp_model_file_path = tmp_cur_path + '\\\\' + 'GoogleNews-vectors-negative300.bin'\n",
    "        if os.path.isfile(tmp_model_file_path):\n",
    "            return True, tmp_model_file_path\n",
    "        else:\n",
    "            return False, tmp_model_file_path\n",
    "    \n",
    "    def split_sentence(self, paragraph):\n",
    "        \n",
    "        return sent_tokenize(paragraph)\n",
    "    \n",
    "    def filter_sentence(self, sentence):\n",
    "        bool_append_main_word=False\n",
    "        print_result = False\n",
    "        \n",
    "        # return list\n",
    "        return_vect_list = []\n",
    "        \n",
    "        # tokenize\n",
    "        tokenize_list = word_tokenize(sentence)\n",
    "        \n",
    "        # tagging\n",
    "        tag_list = pos_tag(tokenize_list) # tuple 형태 (x, y) / y is tag\n",
    "        \n",
    "        if self.do_print:\n",
    "            print(f'tag_list : {tag_list}')\n",
    "        \n",
    "        # clipping unwanted words\n",
    "        filter_list =[]\n",
    "        for tag in tag_list:\n",
    "            if (   tag[0] in self.filter_stop_word \\\n",
    "                or tag[0] in self.filter_user_word \\\n",
    "                or not (tag[0].isalpha()) \\\n",
    "               ): # isalpha, only words are allowed!\n",
    "                pass\n",
    "            elif tag[1] in self.filter_user_skip_tag:\n",
    "                pass\n",
    "            elif tag[1] in self.filter_user_ok_tag:\n",
    "                filter_list.append(tag[0])\n",
    "            else:\n",
    "                if 'VB' in tag[1]:\n",
    "                    filter_list.append( self.filter_stem.stem(tag[0]) )\n",
    "                else:\n",
    "                    filter_list.append(tag[0])\n",
    "        if len(filter_list) == 0:\n",
    "            return None # not usable\n",
    "        else:\n",
    "            pass\n",
    "        \n",
    "        \n",
    "        # @ reduce into 300 words\n",
    "        if len(filter_list) >= self.SENTENCE_LENGTH :\n",
    "            if bool_append_main_word:\n",
    "                filter_list = filter_list[:self.SENTENCE_LENGTH - 1]\n",
    "            else:\n",
    "                filter_list = filter_list[:self.SENTENCE_LENGTH]\n",
    "        else:\n",
    "            pass\n",
    "        \n",
    "        # @ append main_word for future usage\n",
    "        if bool_append_main_word:\n",
    "            filter_list.insert(0, main_word)\n",
    "        else:\n",
    "            pass\n",
    "        \n",
    "        if self.do_print:\n",
    "            print(f'filter_list : {filter_list}')\n",
    "        \n",
    "        # @ main_word to unique vector, convert non exisiting vector to zeros\n",
    "        for word in filter_list:\n",
    "            if word in self.wv_model:\n",
    "                return_vect_list.append(self.wv_model[word].tolist())\n",
    "                if self.do_print:\n",
    "                    print(f'{word} __ is in wv.model')\n",
    "            else:\n",
    "                if self.do_print:\n",
    "                    print(f'{word} __ is not in wv.model')\n",
    "                if bool_append_main_word:\n",
    "                    if word == main_word:\n",
    "                        return_vect_list.append( \\\n",
    "                                        np.full(shape=self.VECTOR_DIMENSION,fill_value=1,dtype=np.int).tolist())\n",
    "                    else:\n",
    "                        \n",
    "                        return_vect_list.append( \\\n",
    "                                        np.full(shape=self.VECTOR_DIMENSION,fill_value=0.5).tolist())\n",
    "                else:\n",
    "                    \n",
    "                    return_vect_list.append( \\\n",
    "                                    np.full(shape=self.VECTOR_DIMENSION,fill_value=0.5).tolist())                                    \n",
    "        \n",
    "        # @ zero padding\n",
    "        for i in range(0, self.SENTENCE_LENGTH - len(return_vect_list), 1 ):\n",
    "            return_vect_list.append(np.zeros(self.VECTOR_DIMENSION).tolist())\n",
    "            \n",
    "        if print_result:\n",
    "            pass\n",
    "            \n",
    "            \n",
    "        return return_vect_list\n",
    "    \n",
    "    def calc_score(self, sim_matrix):\n",
    "        nx_graph = nx.from_numpy_array(sim_matrix)\n",
    "        #scores = nx.pagerank(nx_graph)\n",
    "        #scores = nx.pagerank_numpy(nx_graph)\n",
    "        scores = nx.pagerank_scipy(nx_graph)\n",
    "        max_score = 0\n",
    "        return_list = list(zip(scores.keys(), scores.values()))\n",
    "        \n",
    "        for sent in return_list:\n",
    "            if sent[1] >= max_score:\n",
    "                max_score = sent[1]\n",
    "        if self.do_print:\n",
    "            print(f'scores calculated in calc_socre : {scores}')\n",
    "            print(f'made return_list : {return_list}')\n",
    "        \n",
    "        return return_list, max_score\n",
    "        \n",
    "        \n",
    "    \n",
    "    def calc_sim_matrix(self, in_mean_sentence):\n",
    "        \n",
    "        mean_sentence = np.asarray(in_mean_sentence)\n",
    "        \n",
    "        sim_mat = np.zeros([len(mean_sentence), len(mean_sentence)])\n",
    "        em_dim = self.VECTOR_DIMENSION\n",
    "        \n",
    "        for i in range(len(mean_sentence)):\n",
    "            for j in range(len(mean_sentence)):\n",
    "                tmp_calc_val = \\\n",
    "                cosine_similarity(\\\n",
    "                    mean_sentence[i].reshape(1, em_dim),\n",
    "                    mean_sentence[j].reshape(1, em_dim))[0,0]\n",
    "                tmp_calc_val = (1 - tmp_calc_val)/2\n",
    "                sim_mat[i][j] = tmp_calc_val\n",
    "        if self.do_print:\n",
    "            print(f'pprint ------->')\n",
    "            pprint(sim_mat, indent=4, width=20)\n",
    "        \n",
    "        return sim_mat\n",
    "     \n",
    "    def mean_vect_sentence(self, sentence):\n",
    "        if len(sentence) != 0:\n",
    "            \n",
    "            return [sum(word_vec)/len(word_vec) for word_vec in sentence ]\n",
    "            \n",
    "        else:\n",
    "            return np.zeros(len(sentence)).tolist() \n",
    "    \n",
    "    def get_result(self, ori_sentence, key_score_list, cluster_list):\n",
    "        \n",
    "        tmp_dict = {}\n",
    "        result_index = []\n",
    "        \n",
    "        if self.result_print:\n",
    "            print('original : \\n')\n",
    "            for sent in ori_sentence:\n",
    "                print(sent)\n",
    "            print('')\n",
    "        \n",
    "        \n",
    "        \n",
    "        for i in range(len(cluster_list)):\n",
    "            if cluster_list[i] not in tmp_dict :\n",
    "                tmp_dict[cluster_list[i]] = []\n",
    "                \n",
    "            tmp_dict[cluster_list[i]].append(key_score_list[i])\n",
    "        \n",
    "        for key in tmp_dict:\n",
    "            if self.do_print:\n",
    "                print(f'before sort tmp_dict[key] : {tmp_dict[key]}')\n",
    "            tmp_dict[key].sort(reverse=True, key = lambda x:x[1])\n",
    "            if self.do_print:\n",
    "                print(f'after sort tmp_dict[key] : {tmp_dict[key]}')\n",
    "        \n",
    "        \n",
    "        for key in tmp_dict:\n",
    "            result_index.append(tmp_dict[key][0][0])\n",
    "        result_index.sort()\n",
    "        \n",
    "        if self.result_print:\n",
    "            print('reduced : \\n')\n",
    "            for index in result_index :\n",
    "                print(ori_sentence[index])\n",
    "            print('')\n",
    "        \n",
    "        \n",
    "        return result_index\n",
    "    \n",
    "    def gen_wordcloud(self, ori_sentence, result_index):\n",
    "        \n",
    "        tmp_list = list()\n",
    "        for sentence in ori_sentence:\n",
    "            tokenize_list = word_tokenize(sentence)\n",
    "            tag_list = pos_tag(tokenize_list)\n",
    "            filter_tag = [  ]\n",
    "            for item in tag_list:\n",
    "                if item[1] in ['NN','NNP', 'NNS']:\n",
    "                    filter_tag.append(item[0])\n",
    "            tmp_list.extend(filter_tag)\n",
    "        \n",
    "        \n",
    "        word_cloud = WordCloud().generate(  ' '.join(tmp_list)  )\n",
    "        \n",
    "        if self.do_print:\n",
    "            print(f'word_cloud : {word_cloud}')\n",
    "            print(f'word_cloud.words_ : {word_cloud.words_}')\n",
    "            print(f'type(word_cloud.words_) : {type(word_cloud.words_)}')\n",
    "        \n",
    "        wc_dict= word_cloud.words_\n",
    "        \n",
    "        wc_raw_list = list( zip(wc_dict.keys(), wc_dict.values()) )\n",
    "    \n",
    "        if self.do_print:\n",
    "            print(f'wc_raw_list : {wc_raw_list}')\n",
    "        \n",
    "        wc_list = sorted( wc_raw_list, \n",
    "                         reverse=True, \n",
    "                         key=lambda x: x[1])\n",
    "        \n",
    "        if self.result_print:\n",
    "            \n",
    "            wc_list_cut = wc_list[  : int(min(5, int( len(wc_list)*0.1 )))  ]\n",
    "            print(f'wc_list_cut - keyword : {wc_list_cut}')\n",
    "        \n",
    "        return wc_list\n",
    "        \n",
    "    def paragraph_sentence(self, paragraph):\n",
    "        \n",
    "        start_time = datetime.datetime.now()\n",
    "\n",
    "        \n",
    "        tmp_splitted_sentence = self.split_sentence(paragraph)\n",
    "        tmp_vectorized_sentence = list(map( self.filter_sentence , tmp_splitted_sentence ))\n",
    "        tmp_vectorized_sentence = [ ori for ori in tmp_vectorized_sentence if ori != None ]\n",
    "        tmp_mean_sentence = list(map(self.mean_vect_sentence, tmp_vectorized_sentence))\n",
    "        tmp_sim_matrix = self.calc_sim_matrix(tmp_mean_sentence)\n",
    "        tmp_calc_score_list, tmp_max_score = self.calc_score(tmp_sim_matrix) \n",
    "\n",
    "        \n",
    "\n",
    "        tmp_np_calc_score = np.asarray([ [score/tmp_max_score, 1 ] for key_num, score in tmp_calc_score_list])\n",
    "        if self.do_print:\n",
    "            print(f'tmp_max_score : {tmp_max_score}')\n",
    "            print(f'tmp_np_calc_score : {tmp_np_calc_score}')\n",
    "\n",
    "        tmp_calc_dist = distance.cdist(tmp_np_calc_score, tmp_np_calc_score, 'euclidean')\n",
    "        calc_dist = list(set([j for num, sub in enumerate(tmp_calc_dist) for j in sub if num <= 40]))\n",
    "        calc_dist.sort()\n",
    "        calc_dist.pop(0)\n",
    "\n",
    "        \n",
    "        if self.result_print:\n",
    "            %matplotlib inline\n",
    "            sns.distplot(calc_dist)\n",
    "            mp.pyplot.show()\n",
    "\n",
    "        mu, std = norm.fit(calc_dist)\n",
    "        targEps = norm.ppf(q=0.1, loc=mu, scale=std) # 0.26 -> real previous 0.2\n",
    "\n",
    "        \n",
    "        if self.result_print:\n",
    "            print(f'targEps : {targEps}')\n",
    "        if targEps < 0:\n",
    "            targEps = abs(targEps)\n",
    "\n",
    "        num_samp = max( int(math.log(len(tmp_splitted_sentence))) - 1, 2 )\n",
    "        if self.result_print:\n",
    "            print(f'length of whole paragraph : {len(tmp_splitted_sentence)}')\n",
    "            print(f'num_samp : {num_samp }')\n",
    "            \n",
    "        db = DBSCAN(eps=targEps, min_samples=num_samp, metric='euclidean')\n",
    "        y_db_res = db.fit_predict(tmp_np_calc_score)\n",
    "        if self.result_print:\n",
    "            print(f'elapsed for DBSCAN : {(datetime.datetime.now() - start_time)}')\n",
    "            print(f'len of cluster : {len(set(y_db_res))}')\n",
    "            if self.do_print:\n",
    "                print(f'y_db_res : {y_db_res}')\n",
    "\n",
    "            %matplotlib inline\n",
    "            mp.pyplot.scatter(*np.transpose(tmp_np_calc_score), c=y_db_res)\n",
    "            mp.pyplot.show()\n",
    "\n",
    "        result_index = self.get_result(tmp_splitted_sentence, tmp_calc_score_list, y_db_res)\n",
    "        key_words = self.gen_wordcloud(tmp_splitted_sentence, result_index)\n",
    "\n",
    "        \n",
    "\n",
    "print(f'done! : {datetime.datetime.now()}')"
   ]
  },
  {
   "cell_type": "code",
   "execution_count": 5,
   "metadata": {
    "scrolled": false
   },
   "outputs": [
    {
     "name": "stdout",
     "output_type": "stream",
     "text": [
      "self.wv_model successful loading!\n"
     ]
    },
    {
     "data": {
      "image/png": "[encoded data removed]",
      "text/plain": [
       "<Figure size 432x288 with 1 Axes>"
      ]
     },
     "metadata": {
      "needs_background": "light"
     },
     "output_type": "display_data"
    },
    {
     "name": "stdout",
     "output_type": "stream",
     "text": [
      "targEps : 0.006192422902081371\n",
      "length of whole paragraph : 20\n",
      "num_samp : 2\n",
      "elapsed for DBSCAN : 0:00:00.369022\n",
      "len of cluster : 6\n"
     ]
    },
    {
     "data": {
      "image/png": "[encoded data removed]",
      "text/plain": [
       "<Figure size 432x288 with 1 Axes>"
      ]
     },
     "metadata": {
      "needs_background": "light"
     },
     "output_type": "display_data"
    },
    {
     "name": "stdout",
     "output_type": "stream",
     "text": [
      "original : \n",
      "\n",
      "Ad sales boost Time Warner profit\n",
      "\n",
      "Quarterly profits at US media giant TimeWarner jumped 76% to $1.13bn (Â£600m) for the three months to December, from $639m year-earlier.\n",
      "The firm, which is now one of the biggest investors in Google, benefited from sales of high-speed internet connections and higher advert sales.\n",
      "TimeWarner said fourth quarter sales rose 2% to $11.1bn from $10.9bn.\n",
      "Its profits were buoyed by one-off gains which offset a profit dip at Warner Bros, and less users for AOL.\n",
      "Time Warner said on Friday that it now owns 8% of search-engine Google.\n",
      "But its own internet business, AOL, had has mixed fortunes.\n",
      "It lost 464,000 subscribers in the fourth quarter profits were lower than in the preceding three quarters.\n",
      "However, the company said AOL's underlying profit before exceptional items rose 8% on the back of stronger internet advertising revenues.\n",
      "It hopes to increase subscribers by offering the online service free to TimeWarner internet customers and will try to sign up AOL's existing customers for high-speed broadband.\n",
      "TimeWarner also has to restate 2000 and 2003 results following a probe by the US Securities Exchange Commission (SEC), which is close to concluding.\n",
      "Time Warner's fourth quarter profits were slightly better than analysts' expectations.\n",
      "But its film division saw profits slump 27% to $284m, helped by box-office flops Alexander and Catwoman, a sharp contrast to year-earlier, when the third and final film in the Lord of the Rings trilogy boosted results.\n",
      "For the full-year, TimeWarner posted a profit of $3.36bn, up 27% from its 2003 performance, while revenues grew 6.4% to $42.09bn.\n",
      "\"Our financial performance was strong, meeting or exceeding all of our full-year objectives and greatly enhancing our flexibility,\" chairman and chief executive Richard Parsons said.\n",
      "For 2005, TimeWarner is projecting operating earnings growth of around 5%, and also expects higher revenue and wider profit margins.\n",
      "TimeWarner is to restate its accounts as part of efforts to resolve an inquiry into AOL by US market regulators.\n",
      "It has already offered to pay $300m to settle charges, in a deal that is under review by the SEC.\n",
      "The company said it was unable to estimate the amount it needed to set aside for legal reserves, which it previously set at $500m.\n",
      "It intends to adjust the way it accounts for a deal with German music publisher Bertelsmann's purchase of a stake in AOL Europe, which it had reported as advertising revenue.\n",
      "It will now book the sale of its stake in AOL Europe as a loss on the value of that stake.\n",
      "\n",
      "reduced : \n",
      "\n",
      "TimeWarner said fourth quarter sales rose 2% to $11.1bn from $10.9bn.\n",
      "Its profits were buoyed by one-off gains which offset a profit dip at Warner Bros, and less users for AOL.\n",
      "But its own internet business, AOL, had has mixed fortunes.\n",
      "Time Warner's fourth quarter profits were slightly better than analysts' expectations.\n",
      "For 2005, TimeWarner is projecting operating earnings growth of around 5%, and also expects higher revenue and wider profit margins.\n",
      "TimeWarner is to restate its accounts as part of efforts to resolve an inquiry into AOL by US market regulators.\n",
      "\n",
      "wc_list_cut - keyword : [('profit', 1.0), ('TimeWarner', 0.7777777777777778), ('AOL', 0.7777777777777778), ('sale', 0.5555555555555556), ('Warner', 0.4444444444444444)]\n",
      "iter next line..? x or X to exity\n"
     ]
    },
    {
     "data": {
      "image/png": "[encoded data removed]",
      "text/plain": [
       "<Figure size 432x288 with 1 Axes>"
      ]
     },
     "metadata": {
      "needs_background": "light"
     },
     "output_type": "display_data"
    },
    {
     "name": "stdout",
     "output_type": "stream",
     "text": [
      "targEps : 0.004506656727537708\n",
      "length of whole paragraph : 15\n",
      "num_samp : 2\n",
      "elapsed for DBSCAN : 0:00:00.301230\n",
      "len of cluster : 5\n"
     ]
    },
    {
     "data": {
      "image/png": "[encoded data removed]",
      "text/plain": [
       "<Figure size 432x288 with 1 Axes>"
      ]
     },
     "metadata": {
      "needs_background": "light"
     },
     "output_type": "display_data"
    },
    {
     "name": "stdout",
     "output_type": "stream",
     "text": [
      "original : \n",
      "\n",
      "Dollar gains on Greenspan speech\n",
      "\n",
      "The dollar has hit its highest level against the euro in almost three months after the Federal Reserve head said the US trade deficit is set to stabilise.\n",
      "And Alan Greenspan highlighted the US government's willingness to curb spending and rising household savings as factors which may help to reduce it.\n",
      "In late trading in New York, the dollar reached $1.2871 against the euro, from $1.2974 on Thursday.\n",
      "Market concerns about the deficit has hit the greenback in recent months.\n",
      "On Friday, Federal Reserve chairman Mr Greenspan's speech in London ahead of the meeting of G7 finance ministers sent the dollar higher after it had earlier tumbled on the back of worse-than-expected US jobs data.\n",
      "\"I think the chairman's taking a much more sanguine view on the current account deficit than he's taken for some time,\" said Robert Sinche, head of currency strategy at Bank of America in New York.\n",
      "\"He's taking a longer-term view, laying out a set of conditions under which the current account deficit can improve this year and next.\"\n",
      "Worries about the deficit concerns about China do, however, remain.\n",
      "China's currency remains pegged to the dollar and the US currency's sharp falls in recent months have therefore made Chinese export prices highly competitive.\n",
      "But calls for a shift in Beijing's policy have fallen on deaf ears, despite recent comments in a major Chinese newspaper that the \"time is ripe\" for a loosening of the peg.\n",
      "The G7 meeting is thought unlikely to produce any meaningful movement in Chinese policy.\n",
      "In the meantime, the US Federal Reserve's decision on 2 February to boost interest rates by a quarter of a point - the sixth such move in as many months - has opened up a differential with European rates.\n",
      "The half-point window, some believe, could be enough to keep US assets looking more attractive, and could help prop up the dollar.\n",
      "The recent falls have partly been the result of big budget deficits, as well as the US's yawning current account gap, both of which need to be funded by the buying of US bonds and assets by foreign firms and governments.\n",
      "The White House will announce its budget on Monday, and many commentators believe the deficit will remain at close to half a trillion dollars.\n",
      "\n",
      "reduced : \n",
      "\n",
      "Dollar gains on Greenspan speech\n",
      "\n",
      "The dollar has hit its highest level against the euro in almost three months after the Federal Reserve head said the US trade deficit is set to stabilise.\n",
      "In late trading in New York, the dollar reached $1.2871 against the euro, from $1.2974 on Thursday.\n",
      "\"He's taking a longer-term view, laying out a set of conditions under which the current account deficit can improve this year and next.\"\n",
      "But calls for a shift in Beijing's policy have fallen on deaf ears, despite recent comments in a major Chinese newspaper that the \"time is ripe\" for a loosening of the peg.\n",
      "The half-point window, some believe, could be enough to keep US assets looking more attractive, and could help prop up the dollar.\n",
      "\n",
      "wc_list_cut - keyword : [('US', 1.0), ('dollar', 0.875), ('deficit', 0.875), ('months', 0.5), ('Greenspan', 0.375)]\n",
      "iter next line..? x or X to exitx\n",
      "done...!\n"
     ]
    }
   ],
   "source": [
    "def print_files_in_dir(root_dir_list, root_file_list):\n",
    "    dir_under_root_list = []\n",
    "    file_under_root_list = root_file_list\n",
    "    \n",
    "    for root_dir in root_dir_list:\n",
    "\n",
    "        files = os.listdir(root_dir)\n",
    "        \n",
    "        for file in files:\n",
    "            path = os.path.join(root_dir, file)\n",
    "            #print(prefix + path)\n",
    "            if os.path.isdir(path):\n",
    "                dir_under_root_list.append(path)\n",
    "                \n",
    "            elif os.path.isfile(path):\n",
    "                file_under_root_list.append(path)\n",
    "    \n",
    "    if len(dir_under_root_list) == 0:\n",
    "        return file_under_root_list\n",
    "    else:\n",
    "        return print_files_in_dir(dir_under_root_list, file_under_root_list)\n",
    "\n",
    "def main():\n",
    "    model = Lang_ml()\n",
    "\n",
    "    work_dir = os.getcwd().replace('/','\\\\')\n",
    "    news_dir = work_dir + '\\\\' + 'bbc'\n",
    "\n",
    "\n",
    "    return_list = print_files_in_dir([news_dir], [])\n",
    "\n",
    "    bool_break = False        \n",
    "    for file_paths in return_list:\n",
    "        tmp_whole_paragraph = ''\n",
    "        with open(file_paths, 'r') as file:\n",
    "            while not bool_break:\n",
    "                line = file.readline()\n",
    "                if not line: break\n",
    "\n",
    "                else:\n",
    "                    tmp_whole_paragraph += line\n",
    "            model.paragraph_sentence(tmp_whole_paragraph)\n",
    "            tmp_input = input('iter next line..? x or X to exit')\n",
    "\n",
    "            if tmp_input in ['x', 'X']:\n",
    "                bool_break = True\n",
    "                break    \n",
    "\n",
    "        if bool_break == True: # for loop\n",
    "            break\n",
    "    print('done...!')\n",
    "\n",
    "if __name__ == '__main__':\n",
    "    main()"
   ]
  },
  {
   "cell_type": "code",
   "execution_count": 6,
   "metadata": {},
   "outputs": [
    {
     "name": "stdout",
     "output_type": "stream",
     "text": [
      "starting !!  -> 2020-12-22 15:17:29.938843\n",
      "self.wv_model successful loading!\n",
      "elapsed time of loading model : 0:01:10.863614\n"
     ]
    }
   ],
   "source": [
    "print(f'starting !!  -> {datetime.datetime.now()}')\n",
    "start_time = datetime.datetime.now()\n",
    "model = Lang_ml()\n",
    "print(f'elapsed time of loading model : {datetime.datetime.now() - start_time}')"
   ]
  },
  {
   "cell_type": "markdown",
   "metadata": {},
   "source": [
    "## Article 1\n",
    "- Max Kozlov Dec 16, 2020\n",
    "- https://www.the-scientist.com/news-opinion/new-sars-cov-2-variant-spreading-rapidly-in-uk-68292"
   ]
  },
  {
   "cell_type": "code",
   "execution_count": 7,
   "metadata": {
    "scrolled": false
   },
   "outputs": [
    {
     "name": "stdout",
     "output_type": "stream",
     "text": [
      "article content? : As public health officials worldwide mount vaccination campaigns against COVID-19, a new SARS-CoV-2 variant has rapidly taken hold in the UK, leading scientists to investigate if it carries any implications for the transmissibility of the virus, severity of infection, and success of a vaccine, though experts say it is unlikely to hamper vaccination efforts.   As of December 13, 1,108 COVID-19 cases with the new variant had been identified, predominantly in the south and east of England, says Public Health England in a statement on Monday (December 14). “High numbers of cases of the variant virus have been observed in some areas where there is also a high incidence of COVID-19,” the statement notes. “It is not yet known whether the variant is responsible for these increased numbers of cases.”  “We are still dealing with very thin evidence at the moment about this variant,” Sharon Peacock, the director of the UK COVID-19 Genomics Consortium (COG-UK), which randomly sequences positive COVID-19 samples around from the UK and discovered this variant, tells The Independent.   The group first identified the new variant in late September and began following its spread, but what surprised some experts was its sudden prevalence.  “This lineage came up quite rapidly,” Nick Loman, a professor of microbial genomics at the University of Birmingham and a contributor to COG-UK, tells The Washington Post, noting that there were a “striking” number of mutations in the new variant, compared to the one or two he’s seen in other strains. Still, he notes that there is no proof yet that this variant is spreading faster or causing more severe illness.  Scientists detected 17 mutations in the variant, which scientists have named “VUI – 202012/01,” most in the segment of the virus’s genome that codes for the spike protein that surrounds the virus and allows it to bind to cellular receptors and infiltrate cells.   Jeremy Farrar, the director of the Wellcome Trust biomedical research foundation, released a statement on Monday, calling the development “potentially serious,” though he cautioned that the implications for transmission of the virus and the efficacy of vaccines were still unclear.  “The pressure on the virus to evolve is increased by the fact that so many millions of people have now been infected,” he says. “Most of the mutations will not be significant or cause for concern, but some may give the virus an evolutionary advantage, which may lead to higher transmission or mean it is more harmful.”  COG-UK scientists stress that mutations are very common and that lineages arise and disappear quickly, according to a statement the group released on Monday.   There are few examples of the variant in other countries and it “does sort of seem to have come out of nowhere,” Loman tells The Independent.  This variant is not the first that scientists have detected in the novel coronavirus—the 614G variant that contains a spike protein mutation overtook the 614D variant in the spring. The mutation does not appear to cause more severe cases of COVID-19, but multiple studies indicate that it could be more contagious.  In the fall, another variant that scientists feared could be less sensitive to antibodies took hold in mink farms, leading several countries to call for the culling of millions of minks to prevent the variant from spreading to humans.  Even as the virus mutates, experts are quick to point out that it’s unlikely that it would mutate in such a way that would render a vaccine ineffective. “It seems hard to see that this virus is going to be able to evolve its way away from vaccine efficacy,” Egon Ozer, an infectious diseases expert at the Feinberg School of Medicine at Northwestern University, tells the Post.\n"
     ]
    },
    {
     "data": {
      "image/png": "[encoded data removed]",
      "text/plain": [
       "<Figure size 432x288 with 1 Axes>"
      ]
     },
     "metadata": {
      "needs_background": "light"
     },
     "output_type": "display_data"
    },
    {
     "name": "stdout",
     "output_type": "stream",
     "text": [
      "targEps : 0.007088613653065706\n",
      "length of whole paragraph : 17\n",
      "num_samp : 2\n",
      "elapsed for DBSCAN : 0:00:00.314163\n",
      "len of cluster : 6\n"
     ]
    },
    {
     "data": {
      "image/png": "[encoded data removed]",
      "text/plain": [
       "<Figure size 432x288 with 1 Axes>"
      ]
     },
     "metadata": {
      "needs_background": "light"
     },
     "output_type": "display_data"
    },
    {
     "name": "stdout",
     "output_type": "stream",
     "text": [
      "original : \n",
      "\n",
      "As public health officials worldwide mount vaccination campaigns against COVID-19, a new SARS-CoV-2 variant has rapidly taken hold in the UK, leading scientists to investigate if it carries any implications for the transmissibility of the virus, severity of infection, and success of a vaccine, though experts say it is unlikely to hamper vaccination efforts.\n",
      "As of December 13, 1,108 COVID-19 cases with the new variant had been identified, predominantly in the south and east of England, says Public Health England in a statement on Monday (December 14).\n",
      "“High numbers of cases of the variant virus have been observed in some areas where there is also a high incidence of COVID-19,” the statement notes.\n",
      "“It is not yet known whether the variant is responsible for these increased numbers of cases.”  “We are still dealing with very thin evidence at the moment about this variant,” Sharon Peacock, the director of the UK COVID-19 Genomics Consortium (COG-UK), which randomly sequences positive COVID-19 samples around from the UK and discovered this variant, tells The Independent.\n",
      "The group first identified the new variant in late September and began following its spread, but what surprised some experts was its sudden prevalence.\n",
      "“This lineage came up quite rapidly,” Nick Loman, a professor of microbial genomics at the University of Birmingham and a contributor to COG-UK, tells The Washington Post, noting that there were a “striking” number of mutations in the new variant, compared to the one or two he’s seen in other strains.\n",
      "Still, he notes that there is no proof yet that this variant is spreading faster or causing more severe illness.\n",
      "Scientists detected 17 mutations in the variant, which scientists have named “VUI – 202012/01,” most in the segment of the virus’s genome that codes for the spike protein that surrounds the virus and allows it to bind to cellular receptors and infiltrate cells.\n",
      "Jeremy Farrar, the director of the Wellcome Trust biomedical research foundation, released a statement on Monday, calling the development “potentially serious,” though he cautioned that the implications for transmission of the virus and the efficacy of vaccines were still unclear.\n",
      "“The pressure on the virus to evolve is increased by the fact that so many millions of people have now been infected,” he says.\n",
      "“Most of the mutations will not be significant or cause for concern, but some may give the virus an evolutionary advantage, which may lead to higher transmission or mean it is more harmful.”  COG-UK scientists stress that mutations are very common and that lineages arise and disappear quickly, according to a statement the group released on Monday.\n",
      "There are few examples of the variant in other countries and it “does sort of seem to have come out of nowhere,” Loman tells The Independent.\n",
      "This variant is not the first that scientists have detected in the novel coronavirus—the 614G variant that contains a spike protein mutation overtook the 614D variant in the spring.\n",
      "The mutation does not appear to cause more severe cases of COVID-19, but multiple studies indicate that it could be more contagious.\n",
      "In the fall, another variant that scientists feared could be less sensitive to antibodies took hold in mink farms, leading several countries to call for the culling of millions of minks to prevent the variant from spreading to humans.\n",
      "Even as the virus mutates, experts are quick to point out that it’s unlikely that it would mutate in such a way that would render a vaccine ineffective.\n",
      "“It seems hard to see that this virus is going to be able to evolve its way away from vaccine efficacy,” Egon Ozer, an infectious diseases expert at the Feinberg School of Medicine at Northwestern University, tells the Post.\n",
      "\n",
      "reduced : \n",
      "\n",
      "As of December 13, 1,108 COVID-19 cases with the new variant had been identified, predominantly in the south and east of England, says Public Health England in a statement on Monday (December 14).\n",
      "Still, he notes that there is no proof yet that this variant is spreading faster or causing more severe illness.\n",
      "Jeremy Farrar, the director of the Wellcome Trust biomedical research foundation, released a statement on Monday, calling the development “potentially serious,” though he cautioned that the implications for transmission of the virus and the efficacy of vaccines were still unclear.\n",
      "“The pressure on the virus to evolve is increased by the fact that so many millions of people have now been infected,” he says.\n",
      "There are few examples of the variant in other countries and it “does sort of seem to have come out of nowhere,” Loman tells The Independent.\n",
      "Even as the virus mutates, experts are quick to point out that it’s unlikely that it would mutate in such a way that would render a vaccine ineffective.\n",
      "\n",
      "wc_list_cut - keyword : [('variant', 1.0), ('virus', 0.5625), ('scientists', 0.375), ('mutation', 0.375), ('UK', 0.3125)]\n"
     ]
    }
   ],
   "source": [
    "tmp_input = input('article content? : ')\n",
    "model.paragraph_sentence(tmp_input)\n"
   ]
  },
  {
   "cell_type": "markdown",
   "metadata": {},
   "source": [
    "## Article 2\n",
    "- Martin Brueckner April 17, 2018 1.48pm AEST\n",
    "- https://theconversation.com/not-so-fast-why-the-electric-vehicle-revolution-will-bring-problems-of-its-own-94980"
   ]
  },
  {
   "cell_type": "code",
   "execution_count": 8,
   "metadata": {
    "scrolled": false
   },
   "outputs": [
    {
     "name": "stdout",
     "output_type": "stream",
     "text": [
      "article content? : After years of being derided as a joke by car manufacturers and the public, interest in electric vehicles has increased sharply as governments around the world move to ban petrol and diesel cars.  We have seen a tremendous rise in availability, especially at the premium end of the market, where Tesla is giving established brands a run for their money. Electric cars are likely to penetrate the rest of the market quickly too. Prices should be on par with conventional cars by 2025.  Electric cars are praised as the answer to questions of green and clean mobility. But the overall sustainability of electric vehicles is far from clear. On closer examination, our entire transport paradigm may need to be rethought.  Compared with combustion engines, electric transport has obvious advantages for emissions and human health. Transport is responsible for around 23% of energy-related carbon dioxide emissions globally. This is expected to double by 2050.  Motor vehicles also put a burden on society, especially in urban environments where they are chiefly responsible for noise and air pollution. Avoiding these issues is why electric vehicles are considered a key technology in cleaning up the transport sector. However, electric cars come with problems of their own.  Dirt in the supply chain For one, electric vehicles have a concerning supply chain. Cobalt, a key component of the lithium-ion batteries in electric cars, is linked to reports of child labour. The nickel used in those same batteries is toxic to extract from the ground. And there are environmental concerns and land use conflicts connected with lithium mining in countries like Tibet and Bolivia.  The elements used in battery production are finite and in limited supply. This makes it impossible to electrify all of the world’s transport with current battery technology. Meanwhile, there is still no environmentally safe way of recycling lithium-ion batteries.  While electric cars produce no exhaust, there is concern about fine particle emissions. Electric cars are often heavier than conventional cars, and heavier vehicles are often accompanied by higher levels of non-exhaust emissions. The large torque of electric vehicles further adds to the fine dust problem, as it causes greater tyre wear and dispersion of dust particles.  Different motor, same problem Electric vehicles share many other issues with conventional cars too. Both require roads, parking areas and other infrastructure, which is especially a problem in cities. Roads divide communities and make access to essential services difficult for those without cars.  A shift in people’s reliance on combustion cars to electric cars also does little to address sedentary urban lifestyles, as it perpetuates our lack of physical activity.  Other problems relate to congestion. In Australia, the avoidable social cost of traffic congestion in 2015 was estimated at A$16.5 billion. This is expected to increase by 2% every year until 2030. Given trends in population growth and urbanisation globally and in Australia, electric cars – despite obvious advantages over fossil fuels – are unlikely to solve urban mobility and infrastructure-related problems.  Technology or regulation may solve these technical and environmental headaches. Improvements in recycling, innovation, and the greening of battery factories can go a long way towards reducing the impacts of battery production. Certification schemes, such as the one proposed in Sweden, could help deliver low-impact battery value chains and avoid conflict minerals and human rights violations in the industry.  A new transport paradigm Yet, while climate change concerns alone seem to warrant a speedy transition towards electric mobility, it may prove to be merely a transition technology. Electric cars will do little for urban mobility and liveability in the years to come. Established car makers such as Porsche are working on new modes of transportation, especially for congested and growing markets such as China.  Nevertheless, their vision is still one of personal vehicles – relying on electric cars coupled with smart traffic guidance systems to avoid urban road congestion. Instead of having fewer cars, as called for by transport experts, car makers continue to promote individualised transport, albeit a greener version.  With a growing population, a paradigm shift in transport may be needed – one that looks to urban design to solve transportation problems.  In Copenhagen, for example, bikes now outnumber cars in the city’s centre, which is primed to be car-free within the next ten years. Many other cities, including Oslo in Norway and Chengdu in China, are also on their way to being free of cars.  Experts are already devising new ways to design cities. They combine efficient public transport, as found in Curitiba, Brazil, with principles of walkability, as seen in Vauben, Germany. They feature mixed-use, mixed-income and transit-oriented developments, as seen in places like Fruitvale Village in Oakland, California.  These developments don’t just address transport-related environmental problems. They enhance liveability by reclaiming urban space for green developments. They reduce the cost of living by cutting commuting cost and time. They deliver health benefits, thanks to reduced pollution and more active lifestyles. They improve social cohesion, by fostering human interaction in urban streetscapes, and help to reduce crime. And of course, they improve economic performance by reducing the loss of productivity caused by congestion.  Electric cars are a quick-to-deploy technology fix that helps tackle climate change and improve urban air quality – at least to a point. But the sustainability endgame is to eliminate many of our daily travel needs altogether through smart design, while improving the parts of our lives we lost sight of during our decades-long dependence on cars.\n"
     ]
    },
    {
     "data": {
      "image/png": "[encoded data removed]",
      "text/plain": [
       "<Figure size 432x288 with 1 Axes>"
      ]
     },
     "metadata": {
      "needs_background": "light"
     },
     "output_type": "display_data"
    },
    {
     "name": "stdout",
     "output_type": "stream",
     "text": [
      "targEps : 0.00812093883383562\n",
      "length of whole paragraph : 53\n",
      "num_samp : 2\n",
      "elapsed for DBSCAN : 0:00:01.094087\n",
      "len of cluster : 11\n"
     ]
    },
    {
     "data": {
      "image/png": "[encoded data removed]",
      "text/plain": [
       "<Figure size 432x288 with 1 Axes>"
      ]
     },
     "metadata": {
      "needs_background": "light"
     },
     "output_type": "display_data"
    },
    {
     "name": "stdout",
     "output_type": "stream",
     "text": [
      "original : \n",
      "\n",
      "After years of being derided as a joke by car manufacturers and the public, interest in electric vehicles has increased sharply as governments around the world move to ban petrol and diesel cars.\n",
      "We have seen a tremendous rise in availability, especially at the premium end of the market, where Tesla is giving established brands a run for their money.\n",
      "Electric cars are likely to penetrate the rest of the market quickly too.\n",
      "Prices should be on par with conventional cars by 2025.\n",
      "Electric cars are praised as the answer to questions of green and clean mobility.\n",
      "But the overall sustainability of electric vehicles is far from clear.\n",
      "On closer examination, our entire transport paradigm may need to be rethought.\n",
      "Compared with combustion engines, electric transport has obvious advantages for emissions and human health.\n",
      "Transport is responsible for around 23% of energy-related carbon dioxide emissions globally.\n",
      "This is expected to double by 2050.\n",
      "Motor vehicles also put a burden on society, especially in urban environments where they are chiefly responsible for noise and air pollution.\n",
      "Avoiding these issues is why electric vehicles are considered a key technology in cleaning up the transport sector.\n",
      "However, electric cars come with problems of their own.\n",
      "Dirt in the supply chain For one, electric vehicles have a concerning supply chain.\n",
      "Cobalt, a key component of the lithium-ion batteries in electric cars, is linked to reports of child labour.\n",
      "The nickel used in those same batteries is toxic to extract from the ground.\n",
      "And there are environmental concerns and land use conflicts connected with lithium mining in countries like Tibet and Bolivia.\n",
      "The elements used in battery production are finite and in limited supply.\n",
      "This makes it impossible to electrify all of the world’s transport with current battery technology.\n",
      "Meanwhile, there is still no environmentally safe way of recycling lithium-ion batteries.\n",
      "While electric cars produce no exhaust, there is concern about fine particle emissions.\n",
      "Electric cars are often heavier than conventional cars, and heavier vehicles are often accompanied by higher levels of non-exhaust emissions.\n",
      "The large torque of electric vehicles further adds to the fine dust problem, as it causes greater tyre wear and dispersion of dust particles.\n",
      "Different motor, same problem Electric vehicles share many other issues with conventional cars too.\n",
      "Both require roads, parking areas and other infrastructure, which is especially a problem in cities.\n",
      "Roads divide communities and make access to essential services difficult for those without cars.\n",
      "A shift in people’s reliance on combustion cars to electric cars also does little to address sedentary urban lifestyles, as it perpetuates our lack of physical activity.\n",
      "Other problems relate to congestion.\n",
      "In Australia, the avoidable social cost of traffic congestion in 2015 was estimated at A$16.5 billion.\n",
      "This is expected to increase by 2% every year until 2030.\n",
      "Given trends in population growth and urbanisation globally and in Australia, electric cars – despite obvious advantages over fossil fuels – are unlikely to solve urban mobility and infrastructure-related problems.\n",
      "Technology or regulation may solve these technical and environmental headaches.\n",
      "Improvements in recycling, innovation, and the greening of battery factories can go a long way towards reducing the impacts of battery production.\n",
      "Certification schemes, such as the one proposed in Sweden, could help deliver low-impact battery value chains and avoid conflict minerals and human rights violations in the industry.\n",
      "A new transport paradigm Yet, while climate change concerns alone seem to warrant a speedy transition towards electric mobility, it may prove to be merely a transition technology.\n",
      "Electric cars will do little for urban mobility and liveability in the years to come.\n",
      "Established car makers such as Porsche are working on new modes of transportation, especially for congested and growing markets such as China.\n",
      "Nevertheless, their vision is still one of personal vehicles – relying on electric cars coupled with smart traffic guidance systems to avoid urban road congestion.\n",
      "Instead of having fewer cars, as called for by transport experts, car makers continue to promote individualised transport, albeit a greener version.\n",
      "With a growing population, a paradigm shift in transport may be needed – one that looks to urban design to solve transportation problems.\n",
      "In Copenhagen, for example, bikes now outnumber cars in the city’s centre, which is primed to be car-free within the next ten years.\n",
      "Many other cities, including Oslo in Norway and Chengdu in China, are also on their way to being free of cars.\n",
      "Experts are already devising new ways to design cities.\n",
      "They combine efficient public transport, as found in Curitiba, Brazil, with principles of walkability, as seen in Vauben, Germany.\n",
      "They feature mixed-use, mixed-income and transit-oriented developments, as seen in places like Fruitvale Village in Oakland, California.\n",
      "These developments don’t just address transport-related environmental problems.\n",
      "They enhance liveability by reclaiming urban space for green developments.\n",
      "They reduce the cost of living by cutting commuting cost and time.\n",
      "They deliver health benefits, thanks to reduced pollution and more active lifestyles.\n",
      "They improve social cohesion, by fostering human interaction in urban streetscapes, and help to reduce crime.\n",
      "And of course, they improve economic performance by reducing the loss of productivity caused by congestion.\n",
      "Electric cars are a quick-to-deploy technology fix that helps tackle climate change and improve urban air quality – at least to a point.\n",
      "But the sustainability endgame is to eliminate many of our daily travel needs altogether through smart design, while improving the parts of our lives we lost sight of during our decades-long dependence on cars.\n",
      "\n",
      "reduced : \n",
      "\n",
      "Compared with combustion engines, electric transport has obvious advantages for emissions and human health.\n",
      "This is expected to double by 2050.\n",
      "Cobalt, a key component of the lithium-ion batteries in electric cars, is linked to reports of child labour.\n",
      "The nickel used in those same batteries is toxic to extract from the ground.\n",
      "A shift in people’s reliance on combustion cars to electric cars also does little to address sedentary urban lifestyles, as it perpetuates our lack of physical activity.\n",
      "In Australia, the avoidable social cost of traffic congestion in 2015 was estimated at A$16.5 billion.\n",
      "A new transport paradigm Yet, while climate change concerns alone seem to warrant a speedy transition towards electric mobility, it may prove to be merely a transition technology.\n",
      "In Copenhagen, for example, bikes now outnumber cars in the city’s centre, which is primed to be car-free within the next ten years.\n",
      "Experts are already devising new ways to design cities.\n",
      "These developments don’t just address transport-related environmental problems.\n",
      "They enhance liveability by reclaiming urban space for green developments.\n",
      "\n",
      "wc_list_cut - keyword : [('car', 1.0), ('transport', 0.4166666666666667), ('vehicles', 0.375), ('problem', 0.3333333333333333), ('Electric', 0.25)]\n"
     ]
    }
   ],
   "source": [
    "tmp_input = input('article content? : ')\n",
    "model.paragraph_sentence(tmp_input)"
   ]
  },
  {
   "cell_type": "markdown",
   "metadata": {},
   "source": [
    "## Article 3\n",
    "- Martin Brueckner December, 22, 2020\n",
    "- https://www.bbc.com/news/world-us-canada-55386947"
   ]
  },
  {
   "cell_type": "code",
   "execution_count": 9,
   "metadata": {
    "scrolled": false
   },
   "outputs": [
    {
     "name": "stdout",
     "output_type": "stream",
     "text": [
      "article content? : The cyber-security firm that identified the large-scale hacking of US government agencies says it \"genuinely impacted\" around 50 organisations.  Kevin Mandia, CEO of FireEye, said that while some 18,000 organisations had the malicious code in their networks, it was the 50 who suffered major breaches.  The US Treasury and departments of homeland security, state and defence are known to have been targeted.  US Secretary of State Mike Pompeo has blamed Russia for the hack.  So too have the chairs of the Senate and House of Representatives' intelligence committees.  However, President Trump cast doubt on Russia's role in two tweets on Saturday, hinting instead at Chinese involvement.  Mr Mandia told CBS News that the cyber attack \"was very consistent\" with what US officials know about the work of Russia's foreign intelligence agency, the SVR.  \"I think these are folks that we've responded to in the '90s, in the early 2000s. It's a continuing game in cyberspace,\" he said.  He said the attack on the Texas-based SolarWinds Orion, the computer network tool at the source of the breach, had the \"earliest evidences of being designed\".  It started with a \"dry run\" in October 2019 when \"innocuous code\" was changed. \"Then sometime in March, the operators behind this attack did put malicious code into the supply chain,\" he said, \"injected it in there and that is the backdoor that impacted everybody\".  Despite Russia's denials of the \"baseless\" claims, many in the US intelligence community suspect the Russian government is responsible.  Mr Pompeo said on Friday: \"We can say pretty clearly that it was the Russians that engaged in this activity.\"  He said that Russia was trying to \"undermine our way of life\", and that Russian President Vladimir Putin \"remains a real risk\".  Mr Pompeo has taken a strong line against Russia before. In his time as secretary of state, the US has pulled out of a key nuclear treaty and the Open Skies Treaty on aerial surveillance flights.  The Republican Chair of the Senate intelligence committee, Marco Rubio, tweeted that it is \"increasingly clear that Russian intelligence conducted the gravest cyber intrusion in our history\". He said the response \"must be proportional but significant\".  Adam Schiff, Democrat chair of the House intelligence committee, echoed these views, saying on Sunday: \"I don't think there's any question that it was Russia\".  And he took a swipe at President Trump for his comments on the issue saying they were \"just uniformly destructive and deceitful, and injurious ... to our national security.\"  The president has long been ambivalent towards Moscow, downplaying such incidents as allegations that Russia offered the Taliban bounties to kill US troops.  In his tweets on Saturday, Mr Trump again turned on what he labels the \"fake news media\" for exaggerating the matter.  He wrote: \"The Cyber Hack is far greater in the Fake News Media than in actuality.  \"I have been fully briefed and everything is well under control. Russia, Russia, Russia is the priority chant when anything happens because Lamestream is, for mostly financial reasons, petrified of discussing the possibility that it may be China (it may!).\"  President-elect Joe Biden, who is due to be sworn in on 20 January, has vowed to make cyber-security a \"top priority\" of his administration.  \"We need to disrupt and deter our adversaries from undertaking significant cyber-attacks in the first place,\" he said on Thursday.  \"We will do that by, among other things, imposing substantial costs on those responsible for such malicious attacks, including in co-ordination with our allies and partners.\"  What do we know about the hacking campaign? Hackers managed to gain access to major organisations by compromising network management software developed by the Texas-based IT company SolarWinds.  The access could have allowed the hackers to take a high degree of control over the networks of organisations using that software, but appears to have been used to steal data rather than for any disruptive or destructive impact.  It is thought they targeted a narrow number of organisations in an attempt to steal national security, defence and other related information.  However, while software may have been downloaded, that does not necessarily mean data was taken.  SolarWinds Orion earlier said that 18,000 of its 300,000 customers might have been affected, but there is no indication that significant theft of customer or citizen data was an aim of the cyber-attack.  Researchers, who have named the hack Sunburst, say it could take years to fully comprehend it.  For more than three decades, hackers linked to Moscow are believed to have tried to steal US secrets online.  Several other organisations around the world, including in the UK, are understood to have been targeted by hackers using the same network management software.\n"
     ]
    },
    {
     "data": {
      "image/png": "[encoded data removed]",
      "text/plain": [
       "<Figure size 432x288 with 1 Axes>"
      ]
     },
     "metadata": {
      "needs_background": "light"
     },
     "output_type": "display_data"
    },
    {
     "name": "stdout",
     "output_type": "stream",
     "text": [
      "targEps : 0.0032759759270348868\n",
      "length of whole paragraph : 38\n",
      "num_samp : 2\n",
      "elapsed for DBSCAN : 0:00:00.696142\n",
      "len of cluster : 8\n"
     ]
    },
    {
     "data": {
      "image/png": "[encoded data removed]",
      "text/plain": [
       "<Figure size 432x288 with 1 Axes>"
      ]
     },
     "metadata": {
      "needs_background": "light"
     },
     "output_type": "display_data"
    },
    {
     "name": "stdout",
     "output_type": "stream",
     "text": [
      "original : \n",
      "\n",
      "The cyber-security firm that identified the large-scale hacking of US government agencies says it \"genuinely impacted\" around 50 organisations.\n",
      "Kevin Mandia, CEO of FireEye, said that while some 18,000 organisations had the malicious code in their networks, it was the 50 who suffered major breaches.\n",
      "The US Treasury and departments of homeland security, state and defence are known to have been targeted.\n",
      "US Secretary of State Mike Pompeo has blamed Russia for the hack.\n",
      "So too have the chairs of the Senate and House of Representatives' intelligence committees.\n",
      "However, President Trump cast doubt on Russia's role in two tweets on Saturday, hinting instead at Chinese involvement.\n",
      "Mr Mandia told CBS News that the cyber attack \"was very consistent\" with what US officials know about the work of Russia's foreign intelligence agency, the SVR.\n",
      "\"I think these are folks that we've responded to in the '90s, in the early 2000s.\n",
      "It's a continuing game in cyberspace,\" he said.\n",
      "He said the attack on the Texas-based SolarWinds Orion, the computer network tool at the source of the breach, had the \"earliest evidences of being designed\".\n",
      "It started with a \"dry run\" in October 2019 when \"innocuous code\" was changed.\n",
      "\"Then sometime in March, the operators behind this attack did put malicious code into the supply chain,\" he said, \"injected it in there and that is the backdoor that impacted everybody\".\n",
      "Despite Russia's denials of the \"baseless\" claims, many in the US intelligence community suspect the Russian government is responsible.\n",
      "Mr Pompeo said on Friday: \"We can say pretty clearly that it was the Russians that engaged in this activity.\"\n",
      "He said that Russia was trying to \"undermine our way of life\", and that Russian President Vladimir Putin \"remains a real risk\".\n",
      "Mr Pompeo has taken a strong line against Russia before.\n",
      "In his time as secretary of state, the US has pulled out of a key nuclear treaty and the Open Skies Treaty on aerial surveillance flights.\n",
      "The Republican Chair of the Senate intelligence committee, Marco Rubio, tweeted that it is \"increasingly clear that Russian intelligence conducted the gravest cyber intrusion in our history\".\n",
      "He said the response \"must be proportional but significant\".\n",
      "Adam Schiff, Democrat chair of the House intelligence committee, echoed these views, saying on Sunday: \"I don't think there's any question that it was Russia\".\n",
      "And he took a swipe at President Trump for his comments on the issue saying they were \"just uniformly destructive and deceitful, and injurious ... to our national security.\"\n",
      "The president has long been ambivalent towards Moscow, downplaying such incidents as allegations that Russia offered the Taliban bounties to kill US troops.\n",
      "In his tweets on Saturday, Mr Trump again turned on what he labels the \"fake news media\" for exaggerating the matter.\n",
      "He wrote: \"The Cyber Hack is far greater in the Fake News Media than in actuality.\n",
      "\"I have been fully briefed and everything is well under control.\n",
      "Russia, Russia, Russia is the priority chant when anything happens because Lamestream is, for mostly financial reasons, petrified of discussing the possibility that it may be China (it may!).\"\n",
      "President-elect Joe Biden, who is due to be sworn in on 20 January, has vowed to make cyber-security a \"top priority\" of his administration.\n",
      "\"We need to disrupt and deter our adversaries from undertaking significant cyber-attacks in the first place,\" he said on Thursday.\n",
      "\"We will do that by, among other things, imposing substantial costs on those responsible for such malicious attacks, including in co-ordination with our allies and partners.\"\n",
      "What do we know about the hacking campaign?\n",
      "Hackers managed to gain access to major organisations by compromising network management software developed by the Texas-based IT company SolarWinds.\n",
      "The access could have allowed the hackers to take a high degree of control over the networks of organisations using that software, but appears to have been used to steal data rather than for any disruptive or destructive impact.\n",
      "It is thought they targeted a narrow number of organisations in an attempt to steal national security, defence and other related information.\n",
      "However, while software may have been downloaded, that does not necessarily mean data was taken.\n",
      "SolarWinds Orion earlier said that 18,000 of its 300,000 customers might have been affected, but there is no indication that significant theft of customer or citizen data was an aim of the cyber-attack.\n",
      "Researchers, who have named the hack Sunburst, say it could take years to fully comprehend it.\n",
      "For more than three decades, hackers linked to Moscow are believed to have tried to steal US secrets online.\n",
      "Several other organisations around the world, including in the UK, are understood to have been targeted by hackers using the same network management software.\n",
      "\n",
      "reduced : \n",
      "\n",
      "The US Treasury and departments of homeland security, state and defence are known to have been targeted.\n",
      "So too have the chairs of the Senate and House of Representatives' intelligence committees.\n",
      "Mr Pompeo said on Friday: \"We can say pretty clearly that it was the Russians that engaged in this activity.\"\n",
      "He said the response \"must be proportional but significant\".\n",
      "In his tweets on Saturday, Mr Trump again turned on what he labels the \"fake news media\" for exaggerating the matter.\n",
      "He wrote: \"The Cyber Hack is far greater in the Fake News Media than in actuality.\n",
      "Hackers managed to gain access to major organisations by compromising network management software developed by the Texas-based IT company SolarWinds.\n",
      "Several other organisations around the world, including in the UK, are understood to have been targeted by hackers using the same network management software.\n",
      "\n",
      "wc_list_cut - keyword : [('Russia', 1.0), ('cyber', 0.6363636363636364), ('US', 0.6363636363636364), ('organisations', 0.5454545454545454), ('intelligence', 0.5454545454545454)]\n"
     ]
    }
   ],
   "source": [
    "tmp_input = input('article content? : ')\n",
    "model.paragraph_sentence(tmp_input)"
   ]
  },
  {
   "cell_type": "code",
   "execution_count": null,
   "metadata": {},
   "outputs": [],
   "source": []
  }
 ],
 "metadata": {
  "kernelspec": {
   "display_name": "Python 3",
   "language": "python",
   "name": "python3"
  },
  "language_info": {
   "codemirror_mode": {
    "name": "ipython",
    "version": 3
   },
   "file_extension": ".py",
   "mimetype": "text/x-python",
   "name": "python",
   "nbconvert_exporter": "python",
   "pygments_lexer": "ipython3",
   "version": "3.7.3"
  }
 },
 "nbformat": 4,
 "nbformat_minor": 2
}
